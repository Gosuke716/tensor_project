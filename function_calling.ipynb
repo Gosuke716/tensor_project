{
 "cells": [
  {
   "cell_type": "code",
   "execution_count": 1,
   "id": "81114048",
   "metadata": {},
   "outputs": [],
   "source": [
    "import datetime\n",
    "import json\n",
    "from openai import OpenAI\n",
    "from dotenv import load_dotenv\n",
    "import os"
   ]
  },
  {
   "cell_type": "code",
   "execution_count": 2,
   "id": "aa8c6253",
   "metadata": {},
   "outputs": [],
   "source": [
    "load_dotenv()\n",
    "OPENAI_API_KEY = os.getenv(\"OPENAI_API_KEY\")\n",
    "client = OpenAI(api_key=OPENAI_API_KEY)"
   ]
  },
  {
   "cell_type": "markdown",
   "id": "a4b2c289",
   "metadata": {},
   "source": [
    "### 나이계산 함수\n",
    "예시: 1992-05-01 생의 만 나이는?\n",
    "함수명: calculate_age 입력: birthdate(문자열, YYYY-MM-DD)"
   ]
  },
  {
   "cell_type": "code",
   "execution_count": 34,
   "id": "4973d402",
   "metadata": {},
   "outputs": [],
   "source": [
    "def calculate_age(birthdate: str) -> int:\n",
    "    today = datetime.date.today()\n",
    "    birth = datetime.datetime.strptime(birthdate, \"%Y-%m-%d\").date()\n",
    "    age = today.year - birth.year - ((today.month, today.day) < (birth.month, birth.day))\n",
    "    return age\n",
    "\n",
    "tools = [{\n",
    "        \"type\": \"function\",\n",
    "        \"name\": \"calculate_age\",\n",
    "        \"description\": \"만나이를 계산해줘\",\n",
    "        \"parameters\": {\n",
    "            \"type\": \"object\",\n",
    "            \"properties\": {\n",
    "                \"birthdate\": {\n",
    "                    \"type\": \"string\",\n",
    "                    \"description\": \"Birthdate in YYYY-MM-DD format\"\n",
    "                }\n",
    "            },\n",
    "        \"required\": [\"birthdate\"],\n",
    "        \"additionalProperties\": False\n",
    "        },\n",
    "        \"strict\": True\n",
    "    }]"
   ]
  },
  {
   "cell_type": "code",
   "execution_count": 13,
   "id": "cb095698",
   "metadata": {},
   "outputs": [],
   "source": [
    "input_messages = [\n",
    "    {\"role\": \"user\", \"content\": \"1992-05-01 생의 만 나이는?\"}\n",
    "]"
   ]
  },
  {
   "cell_type": "code",
   "execution_count": 14,
   "id": "3b92c2fe",
   "metadata": {},
   "outputs": [],
   "source": [
    "response = client.responses.create(\n",
    "    model=\"gpt-4.1\",\n",
    "    input=input_messages,\n",
    "    tools=tools,\n",
    "    )"
   ]
  },
  {
   "cell_type": "code",
   "execution_count": 15,
   "id": "59b4d3c7",
   "metadata": {},
   "outputs": [
    {
     "data": {
      "text/plain": [
       "{'arguments': '{\"birthdate\":\"1992-05-01\"}',\n",
       " 'call_id': 'call_QAPJiz2uQdbVLH4Id1abXBg6',\n",
       " 'name': 'calculate_age',\n",
       " 'type': 'function_call',\n",
       " 'id': 'fc_685bb7e21a74819991816b8f19488227037470f693c9b940',\n",
       " 'status': 'completed'}"
      ]
     },
     "execution_count": 15,
     "metadata": {},
     "output_type": "execute_result"
    }
   ],
   "source": [
    "dict(response.output[0])"
   ]
  },
  {
   "cell_type": "code",
   "execution_count": 17,
   "id": "e50b2976",
   "metadata": {},
   "outputs": [
    {
     "name": "stdout",
     "output_type": "stream",
     "text": [
      "만 나이는: 33세 입니다\n"
     ]
    }
   ],
   "source": [
    "import json\n",
    "\n",
    "tool_call = response.output[0]\n",
    "args = json.loads(tool_call.arguments)\n",
    "\n",
    "result = calculate_age(args[\"birthdate\"])\n",
    "print(f\"만 나이는: {result}세 입니다\")"
   ]
  },
  {
   "cell_type": "markdown",
   "id": "57c0a365",
   "metadata": {},
   "source": [
    "### 환율 변환 함수\n",
    "예시: 100달러를 원화로 바꿔줘 (환율 1330원 적용)\n",
    "함수명: convert_currency 입력: amount(숫자), from_currency(문자열), to_currency(문자열), rate(숫자)"
   ]
  },
  {
   "cell_type": "code",
   "execution_count": null,
   "id": "979900bc",
   "metadata": {},
   "outputs": [],
   "source": [
    "def convert_currency(amount: float, from_currency: str, to_currency: str, rate: float)-> float:\n",
    "    return round(amount * rate, 2)\n",
    "\n",
    "tools = [{\n",
    "        \"type\": \"function\",\n",
    "        \"name\": \"convert_currency\",\n",
    "        \"description\": \"달러를 환율에 맞게 원화로 바꿔줘\",\n",
    "        \"parameters\": {\n",
    "            \"type\": \"object\",\n",
    "            \"properties\": {\n",
    "                \"amount\": {\"type\": \"number\"},\n",
    "                \"from_currency\": {\"type\": \"string\"},\n",
    "                \"to_currency\": {\"type\": \"string\"},\n",
    "                \"rate\": {\"type\": \"number\"}\n",
    "            },\n",
    "            \"required\": [\"amount\", \"from_currency\", \"to_currency\", \"rate\"],\n",
    "            \"additionalProperties\": False\n",
    "        },\n",
    "        \"strict\": True\n",
    "    }]"
   ]
  },
  {
   "cell_type": "code",
   "execution_count": 30,
   "id": "1792ab7e",
   "metadata": {},
   "outputs": [],
   "source": [
    "input_messages = [\n",
    "    {\"role\": \"user\", \"content\": \"100달러를 원화로 바꿔줘 (환율 1330원 적용)\"}\n",
    "]"
   ]
  },
  {
   "cell_type": "code",
   "execution_count": null,
   "id": "e3bd6d2e",
   "metadata": {},
   "outputs": [],
   "source": [
    "response = client.responses.create(\n",
    "    model=\"gpt-4.1\",\n",
    "    input=input_messages,\n",
    "    tools=tools,\n",
    ")"
   ]
  },
  {
   "cell_type": "code",
   "execution_count": 32,
   "id": "ef93d2b0",
   "metadata": {},
   "outputs": [
    {
     "data": {
      "text/plain": [
       "{'arguments': '{\"amount\":100,\"from_currency\":\"USD\",\"to_currency\":\"KRW\",\"rate\":1330}',\n",
       " 'call_id': 'call_bk6VdADfcznN79cbkrO57fCs',\n",
       " 'name': 'convert_currency',\n",
       " 'type': 'function_call',\n",
       " 'id': 'fc_685bc8209dd8819bb173b08dc53c064e09da774415912096',\n",
       " 'status': 'completed'}"
      ]
     },
     "execution_count": 32,
     "metadata": {},
     "output_type": "execute_result"
    }
   ],
   "source": [
    "dict(response.output[0])"
   ]
  },
  {
   "cell_type": "code",
   "execution_count": 37,
   "id": "4b1b4e84",
   "metadata": {},
   "outputs": [
    {
     "name": "stdout",
     "output_type": "stream",
     "text": [
      "133000원 입니다\n"
     ]
    }
   ],
   "source": [
    "tool_call = response.output[0]\n",
    "args = json.loads(tool_call.arguments)\n",
    "\n",
    "result = convert_currency(args[\"amount\"], args[\"from_currency\"], args[\"to_currency\"], args[\"rate\"])\n",
    "print(f\"{result}원 입니다\")"
   ]
  },
  {
   "cell_type": "markdown",
   "id": "ab1c92c3",
   "metadata": {},
   "source": [
    "### BMI 계산 함수\n",
    "예시: 키 170, 몸무게 65kg의 bmi는?\n",
    "함수명: calculate_bmi 입력: height(숫자, cm), weight(숫자, kg)"
   ]
  },
  {
   "cell_type": "code",
   "execution_count": 38,
   "id": "3dc00162",
   "metadata": {},
   "outputs": [],
   "source": [
    "def calculate_bmi(height: float, weight: float) -> float:\n",
    "    height_m = height / 100\n",
    "    return round(weight / (height_m ** 2), 2)"
   ]
  },
  {
   "cell_type": "code",
   "execution_count": 42,
   "id": "ea1efa1b",
   "metadata": {},
   "outputs": [],
   "source": [
    "tools = [{\n",
    "        \"type\": \"function\",\n",
    "        \"name\": \"calculate_bmi\",\n",
    "        \"description\": \"키와 몸무게로 BMI를 계산해줘\",\n",
    "        \"parameters\": {\n",
    "            \"type\": \"object\",\n",
    "            \"properties\": {\n",
    "                \"height\": {\"type\": \"number\"},\n",
    "                \"weight\": {\"type\": \"number\"}\n",
    "            },\n",
    "            \"required\": [\"height\", \"weight\"],\n",
    "            \"additionalProperties\": False\n",
    "        },\n",
    "        \"strict\": True\n",
    "    }]"
   ]
  },
  {
   "cell_type": "code",
   "execution_count": 43,
   "id": "11466aae",
   "metadata": {},
   "outputs": [],
   "source": [
    "input_messages = [\n",
    "    {\"role\": \"user\", \"content\": \"키 170cm, 몸무게 65kg의 BMI는?\"}\n",
    "]"
   ]
  },
  {
   "cell_type": "code",
   "execution_count": 44,
   "id": "5a4cbe8f",
   "metadata": {},
   "outputs": [],
   "source": [
    "response = client.responses.create(\n",
    "    model=\"gpt-4.1\",\n",
    "    input=input_messages,\n",
    "    tools=tools,\n",
    ")"
   ]
  },
  {
   "cell_type": "code",
   "execution_count": 45,
   "id": "c7888b13",
   "metadata": {},
   "outputs": [
    {
     "data": {
      "text/plain": [
       "{'arguments': '{\"height\":170,\"weight\":65}',\n",
       " 'call_id': 'call_AgkJ0HQy7njl7WQ30gdsDC1D',\n",
       " 'name': 'calculate_bmi',\n",
       " 'type': 'function_call',\n",
       " 'id': 'fc_685bcb886780819bace0dd7e6bd1acec0232447f086d066e',\n",
       " 'status': 'completed'}"
      ]
     },
     "execution_count": 45,
     "metadata": {},
     "output_type": "execute_result"
    }
   ],
   "source": [
    "dict(response.output[0])"
   ]
  },
  {
   "cell_type": "code",
   "execution_count": 47,
   "id": "cff592ce",
   "metadata": {},
   "outputs": [
    {
     "name": "stdout",
     "output_type": "stream",
     "text": [
      "BMI는 22.49입니다\n"
     ]
    }
   ],
   "source": [
    "tool_call = response.output[0]\n",
    "args = json.loads(tool_call.arguments)\n",
    "\n",
    "result = calculate_bmi(args[\"height\"], args[\"weight\"])\n",
    "print(f\"BMI는 {result}입니다\")"
   ]
  },
  {
   "cell_type": "code",
   "execution_count": null,
   "id": "77064d51",
   "metadata": {},
   "outputs": [],
   "source": []
  },
  {
   "cell_type": "code",
   "execution_count": null,
   "id": "8eb7d044",
   "metadata": {},
   "outputs": [],
   "source": []
  }
 ],
 "metadata": {
  "kernelspec": {
   "display_name": ".venv",
   "language": "python",
   "name": "python3"
  },
  "language_info": {
   "codemirror_mode": {
    "name": "ipython",
    "version": 3
   },
   "file_extension": ".py",
   "mimetype": "text/x-python",
   "name": "python",
   "nbconvert_exporter": "python",
   "pygments_lexer": "ipython3",
   "version": "3.9.13"
  }
 },
 "nbformat": 4,
 "nbformat_minor": 5
}
